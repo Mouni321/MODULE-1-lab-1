{
  "nbformat": 4,
  "nbformat_minor": 0,
  "metadata": {
    "colab": {
      "provenance": [],
      "include_colab_link": true
    },
    "kernelspec": {
      "name": "python3",
      "display_name": "Python 3"
    },
    "language_info": {
      "name": "python"
    }
  },
  "cells": [
    {
      "cell_type": "markdown",
      "metadata": {
        "id": "view-in-github",
        "colab_type": "text"
      },
      "source": [
        "<a href=\"https://colab.research.google.com/github/Mouni321/MODULE-1-lab-1/blob/main/08_08_2024Day1CW.ipynb\" target=\"_parent\"><img src=\"https://colab.research.google.com/assets/colab-badge.svg\" alt=\"Open In Colab\"/></a>"
      ]
    },
    {
      "cell_type": "markdown",
      "source": [
        "\n",
        "Python is a popular programming language. It was created by Guido van Rossum, and released in 1991.\n",
        "\n",
        "**It is used for:**\n",
        "* web development (server-side)\n",
        "* software development\n",
        "* mathematics\n",
        "* system scripting\n",
        "\n",
        "What can Python do?\n",
        "* Python can be used on a server to create web applications.\n",
        "* Python can be used alongside software to create workflows.\n",
        "* Python can connect to database systems. It can also read and modify files.\n",
        "* Python can be used to handle big data and perform complex mathematics.\n",
        "* Python can be used for rapid prototyping, or for production-ready software\n",
        " development.\n",
        "\n",
        "Why Python?\n",
        "* Python works on different platforms (Windows, Mac, Linux, Raspberry Pi, etc).\n",
        "* Python has a simple syntax similar to the English language.\n",
        "* Python has syntax that allows developers to write programs with fewer lines than some other programming languages.\n",
        "* Python runs on an interpreter system, meaning that code can be executed as soon as it is written. This means that prototyping can be very quick.\n",
        "* Python can be treated in a procedural way, an object-oriented way or a functional way.\n",
        "* Python Syntax compared to other programming languages\n",
        "* Python was designed for readability, and has some similarities to the English language with influence from mathematics.\n",
        "* Python uses new lines to complete a command, as opposed to other programming languages which often use semicolons or parentheses.\n",
        "* Python relies on indentation, using whitespace, to define scope; such as the scope of loops, functions and classes. Other programming languages often use curly-brackets for this purpose."
      ],
      "metadata": {
        "id": "eykjhRtS7iGn"
      }
    },
    {
      "cell_type": "code",
      "source": [
        "#syntax\n",
        "print(\"Hello, World!\")"
      ],
      "metadata": {
        "colab": {
          "base_uri": "https://localhost:8080/"
        },
        "id": "ubQxSA7ght2u",
        "outputId": "7a052b64-812a-437f-9e55-ceea622f26cc"
      },
      "execution_count": null,
      "outputs": [
        {
          "output_type": "stream",
          "name": "stdout",
          "text": [
            "Hello, World!\n"
          ]
        }
      ]
    },
    {
      "cell_type": "markdown",
      "source": [
        "\n",
        "\n",
        "```\n",
        "# This is formatted as code\n",
        "```\n",
        "\n",
        "# Python Variables\n",
        "**In Python, variables are created when you assign a value to it:**\n",
        "**variable is a storage block **"
      ],
      "metadata": {
        "id": "1ghgh_77igGG"
      }
    },
    {
      "cell_type": "markdown",
      "source": [
        "# Legal variable names:\n",
        "\n",
        "* myvar = \"John\"\n",
        "* my_var = \"John\"\n",
        "* _my_var = \"John\"\n",
        "* myVar = \"John\"\n",
        "* MYVAR = \"John\"\n",
        "* myvar2 = \"John\""
      ],
      "metadata": {
        "id": "XYb6dx2Dl51n"
      }
    },
    {
      "cell_type": "markdown",
      "source": [
        "# Illegal variable names:\n",
        "* 2myvar = \"John\"\n",
        "* my-var = \"John\"\n",
        "* my var = \"John\"\n"
      ],
      "metadata": {
        "id": "kGfagWiamFqf"
      }
    },
    {
      "cell_type": "code",
      "source": [
        "b=10\n",
        "print(b)"
      ],
      "metadata": {
        "colab": {
          "base_uri": "https://localhost:8080/"
        },
        "id": "KVNhjqLPhtzM",
        "outputId": "a5cdc5c5-0821-44f6-df51-070d92e2c01c"
      },
      "execution_count": null,
      "outputs": [
        {
          "output_type": "stream",
          "name": "stdout",
          "text": [
            "10\n"
          ]
        }
      ]
    },
    {
      "cell_type": "code",
      "source": [
        "a=10\n",
        "b=\"total\"\n",
        "print(a)\n",
        "print(b)"
      ],
      "metadata": {
        "colab": {
          "base_uri": "https://localhost:8080/"
        },
        "id": "p24p0Gu9htvf",
        "outputId": "2217dca2-735c-4bf6-e9a5-19ab3b8625ae"
      },
      "execution_count": null,
      "outputs": [
        {
          "output_type": "stream",
          "name": "stdout",
          "text": [
            "10\n",
            "total\n"
          ]
        }
      ]
    },
    {
      "cell_type": "code",
      "source": [
        "a= 10\n",
        "a=20\n",
        "print(a)"
      ],
      "metadata": {
        "colab": {
          "base_uri": "https://localhost:8080/"
        },
        "id": "6erRrP_mhtsz",
        "outputId": "615a0621-7aec-43aa-c8b2-4c79d6395dcd"
      },
      "execution_count": null,
      "outputs": [
        {
          "output_type": "stream",
          "name": "stdout",
          "text": [
            "20\n"
          ]
        }
      ]
    },
    {
      "cell_type": "code",
      "source": [
        "x,y,z= \"or\",\"ba\",\"tu\"\n",
        "print(x,y,z)"
      ],
      "metadata": {
        "colab": {
          "base_uri": "https://localhost:8080/"
        },
        "id": "kT2AJsY5htpR",
        "outputId": "7d5bb99e-95f6-49c6-aba4-07653aa94285"
      },
      "execution_count": null,
      "outputs": [
        {
          "output_type": "stream",
          "name": "stdout",
          "text": [
            "or ba tu\n"
          ]
        }
      ]
    },
    {
      "cell_type": "code",
      "source": [
        "x=y=z=\"butterfly\"\n",
        "print(x,y,z)"
      ],
      "metadata": {
        "colab": {
          "base_uri": "https://localhost:8080/"
        },
        "id": "3H5YbnCBhtmH",
        "outputId": "92c95517-f7eb-4ebd-8a45-2d5c550f96e7"
      },
      "execution_count": null,
      "outputs": [
        {
          "output_type": "stream",
          "name": "stdout",
          "text": [
            "butterfly butterfly butterfly\n"
          ]
        }
      ]
    },
    {
      "cell_type": "code",
      "source": [
        "x,y,z=\"orrr\"\n",
        "print(x,y,z)"
      ],
      "metadata": {
        "id": "JW1pytcEQKH8",
        "colab": {
          "base_uri": "https://localhost:8080/",
          "height": 263
        },
        "outputId": "4fd07d19-c90a-48f2-e1eb-dfed5df8b83e"
      },
      "execution_count": null,
      "outputs": [
        {
          "output_type": "error",
          "ename": "ValueError",
          "evalue": "too many values to unpack (expected 3)",
          "traceback": [
            "\u001b[0;31m---------------------------------------------------------------------------\u001b[0m",
            "\u001b[0;31mValueError\u001b[0m                                Traceback (most recent call last)",
            "\u001b[0;32m<ipython-input-3-fa62ac9147e9>\u001b[0m in \u001b[0;36m<cell line: 1>\u001b[0;34m()\u001b[0m\n\u001b[0;32m----> 1\u001b[0;31m \u001b[0mx\u001b[0m\u001b[0;34m,\u001b[0m\u001b[0my\u001b[0m\u001b[0;34m,\u001b[0m\u001b[0mz\u001b[0m\u001b[0;34m=\u001b[0m\u001b[0;34m\"orrr\"\u001b[0m\u001b[0;34m\u001b[0m\u001b[0;34m\u001b[0m\u001b[0m\n\u001b[0m\u001b[1;32m      2\u001b[0m \u001b[0mprint\u001b[0m\u001b[0;34m(\u001b[0m\u001b[0mx\u001b[0m\u001b[0;34m,\u001b[0m\u001b[0my\u001b[0m\u001b[0;34m,\u001b[0m\u001b[0mz\u001b[0m\u001b[0;34m)\u001b[0m\u001b[0;34m\u001b[0m\u001b[0;34m\u001b[0m\u001b[0m\n",
            "\u001b[0;31mValueError\u001b[0m: too many values to unpack (expected 3)"
          ]
        }
      ]
    },
    {
      "cell_type": "markdown",
      "source": [
        "# Swapping of two numbers"
      ],
      "metadata": {
        "id": "vbdSHlSLmh-1"
      }
    },
    {
      "cell_type": "code",
      "source": [
        "a=10\n",
        "b=20\n",
        "a,b=b,a\n",
        "print(a,b)"
      ],
      "metadata": {
        "id": "nyOTQYXhhtXv",
        "colab": {
          "base_uri": "https://localhost:8080/"
        },
        "outputId": "d009821a-6c3e-474a-914f-c63603787418"
      },
      "execution_count": null,
      "outputs": [
        {
          "output_type": "stream",
          "name": "stdout",
          "text": [
            "20 10\n"
          ]
        }
      ]
    },
    {
      "cell_type": "markdown",
      "source": [
        "# Get the Type\n",
        "**You can get the data type of a variable with the type() function.**"
      ],
      "metadata": {
        "id": "i4csZcpdj8C4"
      }
    },
    {
      "cell_type": "code",
      "source": [
        "x=5\n",
        "print(type(x))"
      ],
      "metadata": {
        "id": "GRGcMAS4htVE",
        "colab": {
          "base_uri": "https://localhost:8080/"
        },
        "outputId": "e2ea8d5f-9762-4b84-c67c-ea1e782d2f47"
      },
      "execution_count": null,
      "outputs": [
        {
          "output_type": "stream",
          "name": "stdout",
          "text": [
            "<class 'int'>\n"
          ]
        }
      ]
    },
    {
      "cell_type": "markdown",
      "source": [
        "# Python Data Types\n",
        "\n",
        "* Text Type:\tstr\n",
        "* Numeric Types:\tint, float, complex\n",
        "* Sequence Types:\tlist, tuple, range\n",
        "* Mapping Type:\tdict\n",
        "* Set Types:\tset, frozenset\n",
        "* Boolean Type:\tbool\n",
        "\n",
        "\n",
        "\n"
      ],
      "metadata": {
        "id": "DdbQBvAVkYbV"
      }
    },
    {
      "cell_type": "code",
      "source": [
        "x=20\n",
        "print(x)\n",
        "print(type(x))"
      ],
      "metadata": {
        "id": "xidq2_uVhtPH",
        "colab": {
          "base_uri": "https://localhost:8080/"
        },
        "outputId": "86302979-e74d-417f-d698-59291f24ceee"
      },
      "execution_count": null,
      "outputs": [
        {
          "output_type": "stream",
          "name": "stdout",
          "text": [
            "20\n",
            "<class 'int'>\n"
          ]
        }
      ]
    },
    {
      "cell_type": "code",
      "source": [
        "x=20.5\n",
        "print(type(x))"
      ],
      "metadata": {
        "id": "Hcd5dbAYhtML",
        "colab": {
          "base_uri": "https://localhost:8080/"
        },
        "outputId": "c9d37da9-b4a3-4b05-cbbf-7276eed6075b"
      },
      "execution_count": null,
      "outputs": [
        {
          "output_type": "stream",
          "name": "stdout",
          "text": [
            "<class 'float'>\n"
          ]
        }
      ]
    },
    {
      "cell_type": "code",
      "source": [
        "x=1j\n",
        "print(x)\n",
        "print(type(x))"
      ],
      "metadata": {
        "id": "FGyYMth5htJe",
        "colab": {
          "base_uri": "https://localhost:8080/"
        },
        "outputId": "78f397d2-49c9-462b-f68b-7a043c05c1fd"
      },
      "execution_count": null,
      "outputs": [
        {
          "output_type": "stream",
          "name": "stdout",
          "text": [
            "1j\n",
            "<class 'complex'>\n"
          ]
        }
      ]
    },
    {
      "cell_type": "code",
      "source": [
        "x=\"1a\"\n",
        "print(x)\n",
        "print(type(x))"
      ],
      "metadata": {
        "id": "quKFzecnhtGk",
        "colab": {
          "base_uri": "https://localhost:8080/"
        },
        "outputId": "17663707-de44-4eeb-a917-5bfbee1691dc"
      },
      "execution_count": null,
      "outputs": [
        {
          "output_type": "stream",
          "name": "stdout",
          "text": [
            "1a\n",
            "<class 'str'>\n"
          ]
        }
      ]
    },
    {
      "cell_type": "code",
      "source": [
        "a=True\n",
        "print(a)\n",
        "print(type(a))"
      ],
      "metadata": {
        "id": "wbRpvV_PhtD1",
        "colab": {
          "base_uri": "https://localhost:8080/"
        },
        "outputId": "1be946a6-788f-49ff-c6b8-d8b1b2b47832"
      },
      "execution_count": null,
      "outputs": [
        {
          "output_type": "stream",
          "name": "stdout",
          "text": [
            "True\n",
            "<class 'bool'>\n"
          ]
        }
      ]
    },
    {
      "cell_type": "code",
      "source": [
        "a=\"kiet\"\n",
        "print(a)\n",
        "print(type(a))"
      ],
      "metadata": {
        "id": "no8MLV8BhtBH",
        "colab": {
          "base_uri": "https://localhost:8080/"
        },
        "outputId": "9eb85693-695b-487a-f40d-85f6f39d4353"
      },
      "execution_count": null,
      "outputs": [
        {
          "output_type": "stream",
          "name": "stdout",
          "text": [
            "kiet\n",
            "<class 'str'>\n"
          ]
        }
      ]
    },
    {
      "cell_type": "markdown",
      "source": [
        "\n",
        "# TOKENS , PRINTING STATEMENTS AND TYPE CASTING"
      ],
      "metadata": {
        "id": "6VQU2Mia7M04"
      }
    },
    {
      "cell_type": "markdown",
      "source": [
        "**TOKENS**\n",
        "Tokens are the building blocks of a program. When you write code, the Python interpreter breaks it down into these tokens for further processing."
      ],
      "metadata": {
        "id": "gp-j7nz5DPHr"
      }
    },
    {
      "cell_type": "markdown",
      "source": [
        "# TOKENS are 5 types\n",
        "1.   KEYWORDS\n",
        "2.   IDENTIFIERS\n",
        "3. LITERALS\n",
        "4.  DELIMITERS\n",
        "5.  COMMENTS\n",
        "\n",
        "\n",
        "\n",
        "\n",
        "\n",
        "\n"
      ],
      "metadata": {
        "id": "rLzJuBfFDlcW"
      }
    },
    {
      "cell_type": "markdown",
      "source": [
        "# KEYWORDS\n",
        "**Keywords: These are reserved words that have special meanings in Python and cannot be used as identifiers (variable names or function names). Examples include if, else, while, for, def, class, etc.**"
      ],
      "metadata": {
        "id": "xRx3wFI2EAd_"
      }
    },
    {
      "cell_type": "code",
      "source": [
        "if 2<10:\n",
        "    print(\"This is an example of a keyword (if)\")\n"
      ],
      "metadata": {
        "id": "eU7alRp-7ZIP",
        "colab": {
          "base_uri": "https://localhost:8080/"
        },
        "outputId": "abff090f-525c-4ca6-983c-2eeb6b692f70"
      },
      "execution_count": null,
      "outputs": [
        {
          "output_type": "stream",
          "name": "stdout",
          "text": [
            "This is an example of a keyword (if)\n"
          ]
        }
      ]
    },
    {
      "cell_type": "markdown",
      "source": [
        "# IDENTIFIERS\n",
        "** These are names given to variables, functions, classes, modules, etc. in a Python program. Identifiers must follow certain rules, such as starting with a letter or underscore, followed by letters, digits, or underscores. Identifiers are case-sensitive.**"
      ],
      "metadata": {
        "id": "74Lk_EoWEP5A"
      }
    },
    {
      "cell_type": "code",
      "source": [
        "x = 5\n",
        "y = \"John\"\n",
        "print(x)\n",
        "print(y)"
      ],
      "metadata": {
        "id": "PUm21ReJEQcE",
        "colab": {
          "base_uri": "https://localhost:8080/"
        },
        "outputId": "aae4bc22-21cb-4c28-9dd9-b4f5e9209f83"
      },
      "execution_count": null,
      "outputs": [
        {
          "output_type": "stream",
          "name": "stdout",
          "text": [
            "5\n",
            "John\n"
          ]
        }
      ]
    },
    {
      "cell_type": "markdown",
      "source": [
        "# Literals:\n",
        "**Literals: Literals represent fixed values in your code. There are several types of literals:\n",
        "\n",
        "Numeric literals: These include integers, floating-point numbers, and complex numbers.\n",
        "String literals: These are sequences of characters enclosed in quotes (' or \").**"
      ],
      "metadata": {
        "id": "Q3w54JIPEc9K"
      }
    },
    {
      "cell_type": "code",
      "source": [
        "# Literals\n",
        "number = 42\n",
        "floating_point = 3.14\n",
        "string = \"Hello, World!\"\n",
        "boolean = True\n",
        "none_value = None"
      ],
      "metadata": {
        "id": "Uu64MFAREobE"
      },
      "execution_count": null,
      "outputs": []
    },
    {
      "cell_type": "markdown",
      "source": [
        "# Operators:\n",
        "**Operators: Operators are symbols that perform operations on operands. For example, +, -, *, / are arithmetic operators, ==, !=, <, > are comparison operators, and, or, not are logical operators, etc.**"
      ],
      "metadata": {
        "id": "xCoJBPS8EqIM"
      }
    },
    {
      "cell_type": "code",
      "source": [
        "x = 10\n",
        "y = 20\n",
        "print(x+y)"
      ],
      "metadata": {
        "id": "Q-ENd-nwFGeX"
      },
      "execution_count": null,
      "outputs": []
    },
    {
      "cell_type": "code",
      "source": [
        "x = \"Python \"\n",
        "y = \"is \"\n",
        "z = \"awesome\"\n",
        "print(x + y + z)"
      ],
      "metadata": {
        "id": "fkounljTExe4"
      },
      "execution_count": null,
      "outputs": []
    },
    {
      "cell_type": "markdown",
      "source": [
        "**In the print() function, when you try to combine a string and a number with the + operator, Python will give you an error:**"
      ],
      "metadata": {
        "id": "E9pnONHzFR4Z"
      }
    },
    {
      "cell_type": "code",
      "source": [
        "x = 5\n",
        "y = \"John\"\n",
        "print(x + y)"
      ],
      "metadata": {
        "id": "1EKSNZnXFPc3"
      },
      "execution_count": null,
      "outputs": []
    },
    {
      "cell_type": "code",
      "source": [
        "x = 5\n",
        "y = \"John\"\n",
        "print(x,y)"
      ],
      "metadata": {
        "id": "-J2IxFiLFWHF"
      },
      "execution_count": null,
      "outputs": []
    },
    {
      "cell_type": "markdown",
      "source": [
        "# DELIMITERS\n",
        "**Delimiters: These are characters used to specify the structure of a program. Examples include parentheses (), square brackets [], curly braces {}, commas ,, colons :, periods ., etc.**"
      ],
      "metadata": {
        "id": "SIMEhWzFGWv6"
      }
    },
    {
      "cell_type": "code",
      "source": [
        "my_list = [1, 2, 3, 4]\n",
        "my_dict = {'a': 1, 'b': 2}\n"
      ],
      "metadata": {
        "id": "Aw78tMAsGXOL"
      },
      "execution_count": null,
      "outputs": []
    },
    {
      "cell_type": "markdown",
      "source": [
        "#Comments\n",
        "**Comments: Comments are used to explain code and are ignored by the Python interpreter. They start with # and extend to the end of the line.**\n",
        "\n",
        "\n",
        "\n"
      ],
      "metadata": {
        "id": "V1uu5azyExy4"
      }
    },
    {
      "cell_type": "markdown",
      "source": [
        "**WE HAVE TWO TYPES OF COMMENTS IN PYTHON**\n",
        "\n",
        "\n",
        "1.   SINGLE LINE COMMENT-----#\n",
        "2.   MULTY LINE COMMENT-----\"\"\" \"\"\"\n",
        "\n",
        "\n"
      ],
      "metadata": {
        "id": "70QINSwsFi3A"
      }
    },
    {
      "cell_type": "code",
      "source": [
        "#This is a comment\n",
        "print(\"Hello, World!\")"
      ],
      "metadata": {
        "id": "noLB3dGCFbmq"
      },
      "execution_count": null,
      "outputs": []
    },
    {
      "cell_type": "code",
      "source": [
        "print(\"Hello, World!\") #This is a comment"
      ],
      "metadata": {
        "id": "rnRjkDeeFgju"
      },
      "execution_count": null,
      "outputs": []
    },
    {
      "cell_type": "code",
      "source": [
        "#print(\"Hello, World!\")\n",
        "print(\"Cheers, Mate!\")"
      ],
      "metadata": {
        "id": "XkQQYh_MFh_E"
      },
      "execution_count": null,
      "outputs": []
    },
    {
      "cell_type": "code",
      "source": [
        "\"\"\"\n",
        "This is a comment\n",
        "written in\n",
        "more than just one line\n",
        "\"\"\"\n",
        "print(\"Hello, World!\")"
      ],
      "metadata": {
        "id": "HdQHdJ7mF6O1"
      },
      "execution_count": null,
      "outputs": []
    },
    {
      "cell_type": "markdown",
      "source": [
        "# Type casting\n",
        "**Type casting, also known as type conversion, is the process of converting one data type into another. In Python, you can perform type casting using various built-in functions or by using the constructor functions of the target data type.\n",
        "\n",
        "Here are the common types of type casting in Python:**"
      ],
      "metadata": {
        "id": "GIXRwGwUHNJb"
      }
    },
    {
      "cell_type": "markdown",
      "source": [
        "**Implicit Type Conversion: This type of conversion is automatically performed by Python for certain operations where one data type is expected, but another data type is provided. For example, adding an integer to a float will result in an implicit conversion of the integer to a float.**"
      ],
      "metadata": {
        "id": "EnpX828YHUkf"
      }
    },
    {
      "cell_type": "code",
      "source": [
        "# Implicit Type Conversion\n",
        "num_int = 10\n",
        "num_float = 3.5\n",
        "result = num_int + num_float  # num_int is implicitly converted to float\n",
        "print(result)  # Output: 13.5\n"
      ],
      "metadata": {
        "id": "1hatVICUHYbP"
      },
      "execution_count": null,
      "outputs": []
    },
    {
      "cell_type": "markdown",
      "source": [
        "**Explicit Type Conversion: This type of conversion is performed explicitly by the programmer using predefined functions to convert one data type to another.**\n",
        "\n",
        "1. int(): Converts the specified value into an integer.\n",
        "2. float(): Converts the specified value into a floating-point number.\n",
        "3. str(): Converts the specified value into a string.\n",
        "4. bool(): Converts the specified value into a Boolean value.\n",
        "5. list(): Converts the specified iterable (e.g., tuple, set) into a list.\n",
        "6. tuple(): Converts the specified iterable into a tuple.\n",
        "7. set(): Converts the specified iterable into a set."
      ],
      "metadata": {
        "id": "nX5moavSHdVp"
      }
    },
    {
      "cell_type": "code",
      "source": [
        "# Converting string to integer\n",
        "num_str = \"123\"\n",
        "num_int = int(num_str)  # Convert string to integer\n",
        "print(num_int)"
      ],
      "metadata": {
        "id": "VXC3CcHCHomZ"
      },
      "execution_count": null,
      "outputs": []
    },
    {
      "cell_type": "code",
      "source": [
        "a=13.5\n",
        "b=int(a)\n",
        "print(b)"
      ],
      "metadata": {
        "id": "ZvYPW0ubeDKi"
      },
      "execution_count": null,
      "outputs": []
    },
    {
      "cell_type": "code",
      "source": [
        "# Converting float to integer\n",
        "a = 3.14\n",
        "b= int(a)\n",
        "print(\"Float to Integer:\", b)"
      ],
      "metadata": {
        "id": "HTi392JaHqIN"
      },
      "execution_count": null,
      "outputs": []
    },
    {
      "cell_type": "code",
      "source": [
        "# Converting integer to string\n",
        "num_int = 456\n",
        "num_str = str(num_int)\n",
        "print(\"Integer to String:\", num_str)"
      ],
      "metadata": {
        "id": "ewIvUvdsHqEV"
      },
      "execution_count": null,
      "outputs": []
    },
    {
      "cell_type": "code",
      "source": [
        "# Converting boolean to integer\n",
        "bool_val = True\n",
        "num_int = int(bool_val)\n",
        "print(\"Boolean to Integer:\", num_int)"
      ],
      "metadata": {
        "id": "1n78qOshHqBT"
      },
      "execution_count": null,
      "outputs": []
    },
    {
      "cell_type": "markdown",
      "source": [
        "#PRINTING METHODS\n",
        "**Two commonly used methods are f-strings and the format() method.**"
      ],
      "metadata": {
        "id": "bHi5ixzDI8WY"
      }
    },
    {
      "cell_type": "markdown",
      "source": [
        "**f-strings provide a concise and readable way to format strings by embedding expressions inside curly braces {}. You can include variables, expressions, and function calls directly within the string. f-strings are available in Python 3.6 and later versions.**"
      ],
      "metadata": {
        "id": "OcPIk5QvJIi_"
      }
    },
    {
      "cell_type": "code",
      "source": [
        "x = 5\n",
        "y = 10\n",
        "print(f\"The sum of {x} and {y} is {x + y}\")"
      ],
      "metadata": {
        "id": "KAH-3uslJapq"
      },
      "execution_count": null,
      "outputs": []
    },
    {
      "cell_type": "code",
      "source": [
        "name = \"John\"\n",
        "print(f\"Hello, {name}\")"
      ],
      "metadata": {
        "id": "CyOYb6obJyRl"
      },
      "execution_count": null,
      "outputs": []
    },
    {
      "cell_type": "code",
      "source": [
        "name = \"Alice\"\n",
        "age = 30\n",
        "height = 5.6\n",
        "\n",
        "# Using f-strings\n",
        "print(f\"My name is {name}, I am {age} years old, and my height is {height} feet.\")\n"
      ],
      "metadata": {
        "id": "IvAPMulwJAM_"
      },
      "execution_count": null,
      "outputs": []
    },
    {
      "cell_type": "markdown",
      "source": [
        "**format() method:\n",
        "\n",
        "The format() method allows you to format strings by inserting variables or values into placeholders {} within the string. You can specify the order of insertion and provide formatting options such as alignment, padding, and precision.**"
      ],
      "metadata": {
        "id": "O5vU_p2gJOyB"
      }
    },
    {
      "cell_type": "code",
      "source": [
        "name = \"Bob\"\n",
        "age = 25\n",
        "height = 6.0\n",
        "\n",
        "# Using format() method\n",
        "print(\"My name is {}, I am {} years old, and my height is {} feet.\".format(name, age, height))\n"
      ],
      "metadata": {
        "id": "oEMbfIV6JUEY"
      },
      "execution_count": null,
      "outputs": []
    },
    {
      "cell_type": "code",
      "source": [
        "item = \"apple\"\n",
        "price = 1.99\n",
        "print(\"The price of {} is {}\".format(item, price))"
      ],
      "metadata": {
        "id": "nM9HAZVhJgq6"
      },
      "execution_count": null,
      "outputs": []
    },
    {
      "cell_type": "code",
      "source": [
        "name = \"Jane\"\n",
        "age = 35\n",
        "print(\"{1} is {0} years old\".format(age, name))"
      ],
      "metadata": {
        "id": "u9_yqSX3JpfX"
      },
      "execution_count": null,
      "outputs": []
    },
    {
      "cell_type": "markdown",
      "source": [
        "#  Random Number\n",
        "Python does not have a random() function to make a random number, but Python has a built-in module called random that can be used to make random numbers:"
      ],
      "metadata": {
        "id": "TEdz-tseKFCY"
      }
    },
    {
      "cell_type": "code",
      "source": [
        "import random\n",
        "\n",
        "print(random.randrange(1, 100))"
      ],
      "metadata": {
        "id": "UHkK9nLvKJNP"
      },
      "execution_count": null,
      "outputs": []
    },
    {
      "cell_type": "markdown",
      "source": [
        "#USER INPUT,INDENTATION AND CONDITIONALS"
      ],
      "metadata": {
        "id": "rN_1GT3ckKcZ"
      }
    },
    {
      "cell_type": "markdown",
      "source": [
        "# USER INPUT\n",
        "**User input refers to data or information provided by the user to a computer program during its execution.**"
      ],
      "metadata": {
        "id": "pBq1x43ulQkV"
      }
    },
    {
      "cell_type": "code",
      "source": [
        "a=10\n",
        "print(a)"
      ],
      "metadata": {
        "id": "Qya3mW-aloak"
      },
      "execution_count": null,
      "outputs": []
    },
    {
      "cell_type": "code",
      "source": [
        "# Prompting the user to enter their name\n",
        "a= int(input())\n",
        "print(a)"
      ],
      "metadata": {
        "id": "g4UdlYZVlwsE"
      },
      "execution_count": null,
      "outputs": []
    },
    {
      "cell_type": "code",
      "source": [
        "a= int(input())\n",
        "b=int(input())\n",
        "print(a+b)"
      ],
      "metadata": {
        "id": "zO53uFgCmnMb"
      },
      "execution_count": null,
      "outputs": []
    },
    {
      "cell_type": "code",
      "source": [
        "# Prompting the user to enter their name\n",
        "a= int(input(\"enter value of a:\"))\n",
        "print(a)"
      ],
      "metadata": {
        "id": "x-htMlnPmDLf"
      },
      "execution_count": null,
      "outputs": []
    },
    {
      "cell_type": "code",
      "source": [
        "a= float(input(\"enter value of a:\"))\n",
        "print(a)"
      ],
      "metadata": {
        "id": "VKUpuiwlmTd3"
      },
      "execution_count": null,
      "outputs": []
    },
    {
      "cell_type": "code",
      "source": [
        "# Prompting the user to enter their name\n",
        "name = input(\"Enter your name: \")\n",
        "\n",
        "# Displaying a greeting message with the user's name\n",
        "print(\"Hello,\", name)"
      ],
      "metadata": {
        "id": "DfOggyhIlZEs"
      },
      "execution_count": null,
      "outputs": []
    },
    {
      "cell_type": "markdown",
      "source": [
        "# Python Indentation\n",
        "**Indentation refers to the spaces at the beginning of a code line.\n",
        "\n",
        "Where in other programming languages the indentation in code is for readability only, the indentation in Python is very important.\n",
        "\n",
        "Python uses indentation to indicate a block of code.**"
      ],
      "metadata": {
        "id": "4keSsHqSk4V5"
      }
    },
    {
      "cell_type": "markdown",
      "source": [
        "Python will give you an error if you skip the indentation:"
      ],
      "metadata": {
        "id": "CEbU9MEUnf7C"
      }
    },
    {
      "cell_type": "code",
      "source": [
        "if 5 > 2:\n",
        "print(\"Five is greater than two!\")"
      ],
      "metadata": {
        "id": "rhYM7OBPnR7g"
      },
      "execution_count": null,
      "outputs": []
    },
    {
      "cell_type": "code",
      "source": [
        "if 5 > 2:\n",
        "  print(\"Five is greater than two!\")"
      ],
      "metadata": {
        "id": "_UG1qWtxkJ7k"
      },
      "execution_count": null,
      "outputs": []
    },
    {
      "cell_type": "code",
      "source": [
        "if 5 > 2:\n",
        " print(\"Five is greater than two!\")\n",
        "if 5 > 2:\n",
        "        print(\"Five is greater than two!\")"
      ],
      "metadata": {
        "id": "wlRmxsZijOhJ"
      },
      "execution_count": null,
      "outputs": []
    },
    {
      "cell_type": "markdown",
      "source": [],
      "metadata": {
        "id": "2AZPvMNORjGT"
      }
    },
    {
      "cell_type": "markdown",
      "source": [
        "# CONDITIONALS\n",
        "**\n",
        "In Python, conditional statements are used to control the flow of a program based on certain conditions. They allow the program to execute different blocks of code depending on whether certain conditions are true or false**"
      ],
      "metadata": {
        "id": "nt9sfYXuoBtG"
      }
    },
    {
      "cell_type": "markdown",
      "source": [
        "**In python the conditionals are**\n",
        "\n",
        "\n",
        "1. if\n",
        "2. if - else\n",
        "3. elif\n",
        "4. Nested if\n",
        "\n"
      ],
      "metadata": {
        "id": "k_3M7rkVoRsZ"
      }
    },
    {
      "cell_type": "markdown",
      "source": [
        "** logical conditions**\n",
        "\n",
        "\n",
        "*  Equals: a == b\n",
        "* Not Equals: a != b\n",
        "*  Less than: a < b\n",
        "*  Less than or equal to: a <= b\n",
        "*  Greater than: a > b\n",
        "*  Greater than or equal to: a >= b\n",
        "\n",
        "\n"
      ],
      "metadata": {
        "id": "4VW3_9s2o_iV"
      }
    },
    {
      "cell_type": "markdown",
      "source": [
        "**if Statement: The if statement is used to execute a block of code if a specified condition is true.**"
      ],
      "metadata": {
        "id": "vNLfq4SHokxc"
      }
    },
    {
      "cell_type": "code",
      "source": [
        "x = 10\n",
        "if x > 5:\n",
        "  print(\"x is greater than 5\")\n"
      ],
      "metadata": {
        "id": "jyLZ9ytOoQgg",
        "colab": {
          "base_uri": "https://localhost:8080/"
        },
        "outputId": "9a310ca2-c3ca-4d40-c009-a1b02581cd01"
      },
      "execution_count": null,
      "outputs": [
        {
          "output_type": "stream",
          "name": "stdout",
          "text": [
            "x is greater than 5\n"
          ]
        }
      ]
    },
    {
      "cell_type": "code",
      "source": [
        "x = 10\n",
        "if x > 5:\n",
        "  print(\"x is greater than 5\")"
      ],
      "metadata": {
        "id": "DlUycaovpnHC",
        "colab": {
          "base_uri": "https://localhost:8080/"
        },
        "outputId": "2c27db37-5f1e-4262-9f2d-b36174f27908"
      },
      "execution_count": null,
      "outputs": [
        {
          "output_type": "stream",
          "name": "stdout",
          "text": [
            "x is greater than 5\n"
          ]
        }
      ]
    },
    {
      "cell_type": "code",
      "source": [
        "a=100\n",
        "if a!=10:\n",
        "  print(\"a not equals to 100\")"
      ],
      "metadata": {
        "id": "dfS5HqSMpW1v",
        "colab": {
          "base_uri": "https://localhost:8080/"
        },
        "outputId": "37018702-ccdd-499c-af52-0a765ff3b704"
      },
      "execution_count": null,
      "outputs": [
        {
          "output_type": "stream",
          "name": "stdout",
          "text": [
            "a not equals to 100\n"
          ]
        }
      ]
    },
    {
      "cell_type": "code",
      "source": [
        "a=100\n",
        "if a>=10:\n",
        "  print(\"a greater than or not eqaul to 10\")\n"
      ],
      "metadata": {
        "id": "OtKSZK7cp2F9",
        "colab": {
          "base_uri": "https://localhost:8080/"
        },
        "outputId": "21b79d26-5867-4d30-b2ea-0ce91dd1f5bd"
      },
      "execution_count": null,
      "outputs": [
        {
          "output_type": "stream",
          "name": "stdout",
          "text": [
            "a greater than or not eqaul to 10\n"
          ]
        }
      ]
    },
    {
      "cell_type": "code",
      "source": [
        "if 2 > 5:\n",
        "  print(\"NONE\")"
      ],
      "metadata": {
        "id": "zAWFbRlgq6Ud"
      },
      "execution_count": null,
      "outputs": []
    },
    {
      "cell_type": "markdown",
      "source": [
        "**if-else Statement: The if-else statement is used to execute one block of code if the condition is true, and another block of code if the condition is false.**"
      ],
      "metadata": {
        "id": "m4Q9561aqLHG"
      }
    },
    {
      "cell_type": "code",
      "source": [
        "x = 10\n",
        "if x > 5:\n",
        "    print(\"x is greater than 5\")\n",
        "else:\n",
        "    print(\"x is less than or equal to 5\")\n"
      ],
      "metadata": {
        "id": "SjvKBut8qKhe"
      },
      "execution_count": null,
      "outputs": []
    },
    {
      "cell_type": "code",
      "source": [
        "a = 200\n",
        "b = 33\n",
        "if b > a:\n",
        "  print(\"KIET\")\n",
        "else:\n",
        "  print(\"COLLEGE\")"
      ],
      "metadata": {
        "id": "qw6FfFi_qa0A",
        "colab": {
          "base_uri": "https://localhost:8080/"
        },
        "outputId": "879a02b3-615a-453a-c2ae-eaeb3d2588e6"
      },
      "execution_count": null,
      "outputs": [
        {
          "output_type": "stream",
          "name": "stdout",
          "text": [
            "COLLEGE\n"
          ]
        }
      ]
    },
    {
      "cell_type": "code",
      "source": [
        "age=20\n",
        "backlogs=0\n",
        "if age>18:\n",
        "  if backlogs<2:\n",
        "    print(\"submit letter\")\n",
        "  else:\n",
        "    print(\"no submission\")\n",
        "else:\n",
        "    print(\"default\")"
      ],
      "metadata": {
        "id": "4FuqxaYAYTqR",
        "colab": {
          "base_uri": "https://localhost:8080/"
        },
        "outputId": "71642cba-4e4c-4f16-8cf5-bfd2dc4cd63e"
      },
      "execution_count": null,
      "outputs": [
        {
          "output_type": "stream",
          "name": "stdout",
          "text": [
            "submit letter\n"
          ]
        }
      ]
    },
    {
      "cell_type": "markdown",
      "source": [
        "**if-elif-else Statement: The if-elif-else statement is used to check multiple conditions. It evaluates each condition one by one, and if any of the conditions are true, the corresponding block of code is executed. If none of the conditions are true, the else block is executed.**"
      ],
      "metadata": {
        "id": "gS-Umwe9rdhI"
      }
    },
    {
      "cell_type": "code",
      "source": [
        "x = 10\n",
        "if x > 10:\n",
        "    print(\"x is greater than 10\")\n",
        "elif x == 10:\n",
        "    print(\"x is equal to 10\")\n",
        "else:\n",
        "    print(\"x is less than 10\")\n"
      ],
      "metadata": {
        "id": "8vfSkeMMrNw2",
        "colab": {
          "base_uri": "https://localhost:8080/"
        },
        "outputId": "221ecc6a-9e80-4e22-d781-1c8b6bcb27d6"
      },
      "execution_count": null,
      "outputs": [
        {
          "output_type": "stream",
          "name": "stdout",
          "text": [
            "x is equal to 10\n"
          ]
        }
      ]
    },
    {
      "cell_type": "code",
      "source": [
        "x = 10\n",
        "if x < 100:\n",
        "    print(\"x is greater than 10\")\n",
        "elif x == 10:\n",
        "    print(\"x is equal to 10\")\n",
        "else:\n",
        "    print(\"x is less than 10\")"
      ],
      "metadata": {
        "id": "9OPsnwnMr1kF",
        "colab": {
          "base_uri": "https://localhost:8080/"
        },
        "outputId": "aa7ebd70-5fa6-4e39-df8f-75d9351e0434"
      },
      "execution_count": null,
      "outputs": [
        {
          "output_type": "stream",
          "name": "stdout",
          "text": [
            "x is greater than 10\n"
          ]
        }
      ]
    },
    {
      "cell_type": "code",
      "source": [
        "x = 10\n",
        "if x > 10:\n",
        "    print(\"x is greater than 10\")\n",
        "elif x != 10:\n",
        "    print(\"x is  NOT equal to 10\")\n",
        "else:\n",
        "    print(\"x is less than 10\")"
      ],
      "metadata": {
        "id": "FybiX4e5r8Gz",
        "colab": {
          "base_uri": "https://localhost:8080/"
        },
        "outputId": "719ff837-9824-479e-9333-f21571f2601d"
      },
      "execution_count": null,
      "outputs": [
        {
          "output_type": "stream",
          "name": "stdout",
          "text": [
            "x is less than 10\n"
          ]
        }
      ]
    },
    {
      "cell_type": "markdown",
      "source": [
        "#Nested If\n",
        "You can have if statements inside if statements, this is called nested if statements."
      ],
      "metadata": {
        "id": "Q_J0jzaiseEA"
      }
    },
    {
      "cell_type": "code",
      "source": [
        "x = 41\n",
        "\n",
        "if x > 10:\n",
        "  if x > 20:\n",
        "    print(\"and also above 20!\")\n",
        "  else:\n",
        "    print(\"but not above 20.\")\n",
        "else:\n",
        "  print(\"Not\")"
      ],
      "metadata": {
        "id": "5r1l4EmAsiB6",
        "colab": {
          "base_uri": "https://localhost:8080/"
        },
        "outputId": "fa1b8d3d-0c28-4384-ada6-20087bd45186"
      },
      "execution_count": null,
      "outputs": [
        {
          "output_type": "stream",
          "name": "stdout",
          "text": [
            "and also above 20!\n"
          ]
        }
      ]
    },
    {
      "cell_type": "code",
      "source": [
        "x = 10\n",
        "if x < 5:\n",
        "    if x < 15:\n",
        "        print(\"x is between 5 and 15\")\n",
        "    else:\n",
        "        print(\"x is greater than or equal to 15\")\n",
        "else:\n",
        "    print(\"x is less than or equal to 5\")\n"
      ],
      "metadata": {
        "id": "0dRBl4QxtQh2",
        "colab": {
          "base_uri": "https://localhost:8080/"
        },
        "outputId": "710742e1-65fc-499f-9a52-8d98a9112492"
      },
      "execution_count": null,
      "outputs": [
        {
          "output_type": "stream",
          "name": "stdout",
          "text": [
            "x is less than or equal to 5\n"
          ]
        }
      ]
    },
    {
      "cell_type": "code",
      "source": [
        "x = 10\n",
        "if x > 5:\n",
        "    if x < 9:\n",
        "        print(\"x is between 5 and 9\")\n",
        "    elif x==10:\n",
        "      print(\"x equals to 10\")\n",
        "    else:\n",
        "        print(\"x is greater than or equal to 15\")\n",
        "else:\n",
        "    print(\"x is less than or equal to 5\")\n"
      ],
      "metadata": {
        "id": "Z0ydGDyitYpf",
        "colab": {
          "base_uri": "https://localhost:8080/"
        },
        "outputId": "c0fa181d-3efb-4c23-ffb8-8320086e3819"
      },
      "execution_count": null,
      "outputs": [
        {
          "output_type": "stream",
          "name": "stdout",
          "text": [
            "x equals to 10\n"
          ]
        }
      ]
    },
    {
      "cell_type": "code",
      "source": [
        "x = 10\n",
        "if x > 5:\n",
        "    if x < 9:\n",
        "        print(\"x is between 5 and 9\")\n",
        "    elif x!=10:\n",
        "      print(\"x equals to 10\")\n",
        "    else:\n",
        "        print(\"x is greater than or equal to 15\")\n",
        "else:\n",
        "    print(\"x is less than or equal to 5\")"
      ],
      "metadata": {
        "id": "OTDEK-0Tt24L",
        "colab": {
          "base_uri": "https://localhost:8080/"
        },
        "outputId": "4a55a6c7-7963-4755-e98d-38a0a8e94493"
      },
      "execution_count": null,
      "outputs": [
        {
          "output_type": "stream",
          "name": "stdout",
          "text": [
            "x is greater than or equal to 15\n"
          ]
        }
      ]
    },
    {
      "cell_type": "markdown",
      "source": [
        "**CODE -2**\n",
        "Write a code to determine whether a number is positive number, negative number, or zero by taking user input.\n",
        "* ex:\n",
        "* 2\n",
        "* positive number\n",
        "* 0\n",
        "* Zero"
      ],
      "metadata": {
        "id": "_9ejrGRGvw2e"
      }
    },
    {
      "cell_type": "code",
      "source": [
        "num = int(input())\n",
        "if num>0:\n",
        "  print(\"Positive num\")\n",
        "elif num<0:\n",
        "  print(\"Negative num\")\n",
        "else:\n",
        "  print(\"The num is Zero\")"
      ],
      "metadata": {
        "id": "a94iWs_huMA9"
      },
      "execution_count": null,
      "outputs": []
    },
    {
      "cell_type": "markdown",
      "source": [
        "\n",
        "# OPERATORS AND STRINGS"
      ],
      "metadata": {
        "id": "q6gu6zgBuLRs"
      }
    },
    {
      "cell_type": "markdown",
      "source": [
        "+\n",
        "3.**Python Operators\n",
        "Operators are used to perform operations on variables and values.\n",
        "\n",
        "In the example below, we use the + operator to add together two values**"
      ],
      "metadata": {
        "id": "XbPvb8vCvclm"
      }
    },
    {
      "cell_type": "code",
      "source": [
        "print(20 + 50)"
      ],
      "metadata": {
        "id": "Hg6uSJL4vUCR"
      },
      "execution_count": null,
      "outputs": []
    },
    {
      "cell_type": "markdown",
      "source": [
        "Python divides the operators in the following groups:\n",
        "\n",
        "1. Arithmetic operators\n",
        "2. Assignment operators\n",
        "3. Comparison operators\n",
        "4. Logical operators\n",
        "5. Identity operators\n",
        "6. Membership operators\n",
        "7. Bitwise operators"
      ],
      "metadata": {
        "id": "Inm8YHasvysK"
      }
    },
    {
      "cell_type": "markdown",
      "source": [
        "#  Arithmetic Operators"
      ],
      "metadata": {
        "id": "z6fH7-fmwEnD"
      }
    },
    {
      "cell_type": "markdown",
      "source": [
        "**Python Arithmetic Operators are used with numeric values to perform common mathematical operations:**"
      ],
      "metadata": {
        "id": "93yGmgyfv_o6"
      }
    },
    {
      "cell_type": "markdown",
      "source": [
        "\n",
        "Operator\tName\tExample\tTry it\n",
        "1. Addition\tx + y\n",
        "2. Subtraction\tx - y\n",
        "3. Multiplication\tx * y\n",
        "4.\tDivision\tx / y\n",
        "5. Modulus\tx % y\n",
        "6. Exponentiation\tx ** y\n",
        "7. Floor division\tx // y"
      ],
      "metadata": {
        "id": "nCQBE4o0wKeT"
      }
    },
    {
      "cell_type": "code",
      "source": [
        "x = 15\n",
        "y = 2\n",
        "\n",
        "print(x / y)"
      ],
      "metadata": {
        "id": "XrP5bw7-vT_p"
      },
      "execution_count": null,
      "outputs": []
    },
    {
      "cell_type": "code",
      "source": [
        "x = 15\n",
        "y = 2\n",
        "\n",
        "print(x // y)"
      ],
      "metadata": {
        "id": "X6pXPrv-TqSy"
      },
      "execution_count": null,
      "outputs": []
    },
    {
      "cell_type": "code",
      "source": [
        "x = 2\n",
        "y = 5\n",
        "\n",
        "print(x ** y)"
      ],
      "metadata": {
        "id": "4cstt5j6vT82"
      },
      "execution_count": null,
      "outputs": []
    },
    {
      "cell_type": "code",
      "source": [
        "x = 10\n",
        "y = 2\n",
        "\n",
        "print(x % y)"
      ],
      "metadata": {
        "id": "4vOLXREbvTR9"
      },
      "execution_count": null,
      "outputs": []
    },
    {
      "cell_type": "markdown",
      "source": [
        "**CODE-3 determine whether a given number is even or odd:**"
      ],
      "metadata": {
        "id": "9ym3pB2E0RD7"
      }
    },
    {
      "cell_type": "code",
      "source": [
        "number=int(input(\"Enter a number\"))\n",
        "if number % 2 == 0:\n",
        "    print(\"number is even.\")\n",
        "else:\n",
        "    print(\"number is odd.\")"
      ],
      "metadata": {
        "id": "jh4ZMkFR0Qk8"
      },
      "execution_count": null,
      "outputs": []
    },
    {
      "cell_type": "markdown",
      "source": [
        "# Assignment Operators\n",
        "**Assignment operators are used to assign values to variables**\n",
        "\n",
        "Operator\tExample\n",
        "1.  x = 5\t -------x = 5\n",
        "2. \tx += 3\t-------x = x + 3\n",
        "3. \tx -= 3\t-------x = x - 3\n",
        "4. \tx *= 3\t-------x = x * 3\n",
        "5. \tx /= 3\t-------x = x / 3\n",
        "6. \tx %= 3\t-------x = x % 3\n",
        "7. \tx //= 3\t-------x = x // 3"
      ],
      "metadata": {
        "id": "4ousbdn6wwtF"
      }
    },
    {
      "cell_type": "code",
      "source": [
        "x = 5\n",
        "x += 3\n",
        "\n",
        "print(x)"
      ],
      "metadata": {
        "id": "y2F5Zp7kxR6D"
      },
      "execution_count": null,
      "outputs": []
    },
    {
      "cell_type": "code",
      "source": [
        "x = 5\n",
        "\n",
        "x **= 3\n",
        "\n",
        "print(x)"
      ],
      "metadata": {
        "id": "tdEM7UQuxjPN"
      },
      "execution_count": null,
      "outputs": []
    },
    {
      "cell_type": "markdown",
      "source": [
        "****"
      ],
      "metadata": {
        "id": "HYRmQ4C20K1r"
      }
    },
    {
      "cell_type": "markdown",
      "source": [
        "# Comparison Operators\n",
        "**Comparison operators are used to compare two values:**"
      ],
      "metadata": {
        "id": "e2-FfSfwxgJv"
      }
    },
    {
      "cell_type": "markdown",
      "source": [
        "\n",
        "Operator\tName\tExample\tTry it\n",
        "1. Equal\tx == y\n",
        "2. Not equal\tx != y\n",
        "3. Greater than\tx > y\n",
        "4. Less than\tx < y\n",
        "5. \tGreater than or equal to\tx >= y\n",
        "6. \tLess than or equal to\tx <= y"
      ],
      "metadata": {
        "id": "TfpEZ1IyxyEX"
      }
    },
    {
      "cell_type": "code",
      "source": [
        "x = 5\n",
        "y = 3\n",
        "\n",
        "print(x == y)"
      ],
      "metadata": {
        "id": "i7-vS4aFxSjr"
      },
      "execution_count": null,
      "outputs": []
    },
    {
      "cell_type": "code",
      "source": [
        "x = 5\n",
        "y = 3\n",
        "\n",
        "print(x != y)\n"
      ],
      "metadata": {
        "id": "yQcGVva4xTAb"
      },
      "execution_count": null,
      "outputs": []
    },
    {
      "cell_type": "code",
      "source": [
        "x = 5\n",
        "y = 3\n",
        "\n",
        "print(x <= y)"
      ],
      "metadata": {
        "id": "WXYURHWuxTTr"
      },
      "execution_count": null,
      "outputs": []
    },
    {
      "cell_type": "code",
      "source": [
        "x=3\n",
        "y=3\n",
        "print(x>=y)"
      ],
      "metadata": {
        "id": "VH7MGrEGZBOi"
      },
      "execution_count": null,
      "outputs": []
    },
    {
      "cell_type": "markdown",
      "source": [
        "#Logical Operators\n",
        "**Logical operators are used to combine conditional statements:**\n",
        "\n",
        "\n",
        "\n",
        "1. \"and \"\tReturns True if both statements are true----\tx < 5 and  x < 10\n",
        "2. \"or\"\tReturns True if one of the statements is true---\tx < 5 or x < 4\n",
        "3. \"not\"\tReverse the result, returns False if the result is--- true\tnot(x < 5 and x < 10)"
      ],
      "metadata": {
        "id": "9YoQOyevyF4h"
      }
    },
    {
      "cell_type": "code",
      "source": [
        "x = 5\n",
        "\n",
        "print(x > 3 and x < 10)"
      ],
      "metadata": {
        "id": "P4nTOIV1yFpK"
      },
      "execution_count": null,
      "outputs": []
    },
    {
      "cell_type": "code",
      "source": [
        "x = 5\n",
        "if x > 3 and x < 10:\n",
        "  print(True)"
      ],
      "metadata": {
        "id": "7hwPQ_AsyFmK"
      },
      "execution_count": null,
      "outputs": []
    },
    {
      "cell_type": "code",
      "source": [
        "x = 5\n",
        "if x < 3 and x < 10:\n",
        "  print(True)"
      ],
      "metadata": {
        "id": "z79mq8P4Zo2c"
      },
      "execution_count": null,
      "outputs": []
    },
    {
      "cell_type": "code",
      "source": [
        "x=-5\n",
        "y=20\n",
        "if x > 0 and y > 0:\n",
        "  print(\"Both numbers are positive.\")\n",
        "elif x > 0 or y > 0:\n",
        "  print(\"At least one number is positive.\")\n",
        "else:\n",
        "  print(\"Both numbers are non-positive.\")"
      ],
      "metadata": {
        "id": "wnrX0mEryFjD"
      },
      "execution_count": null,
      "outputs": []
    },
    {
      "cell_type": "code",
      "source": [
        "x = 5\n",
        "\n",
        "print(not(x > 3 and x < 10))"
      ],
      "metadata": {
        "id": "eg7gG3LUyFgS",
        "colab": {
          "base_uri": "https://localhost:8080/"
        },
        "outputId": "35d40d5b-7fd9-4a64-8f42-ec891210d467"
      },
      "execution_count": null,
      "outputs": [
        {
          "output_type": "stream",
          "name": "stdout",
          "text": [
            "False\n"
          ]
        }
      ]
    },
    {
      "cell_type": "markdown",
      "source": [
        "# Identity Operators\n",
        "**Identity operators are used to compare the objects, not if they are equal, but if they are actually the same object, with the same memory location**\n",
        "\n",
        "1. \"is\"\tReturns False if both variables are the same object\t-----x is y\n",
        "2. \"is not\"\tReturns True if both variables are not the same object\t---x is not y"
      ],
      "metadata": {
        "id": "LiN2lxYYzbl-"
      }
    },
    {
      "cell_type": "code",
      "source": [
        "x = [\"apple\", \"banana\"]\n",
        "y = [\"apple\", \"banana\"]\n",
        "z = x\n",
        "print(x is y)"
      ],
      "metadata": {
        "id": "j_EAGfiLyFdh"
      },
      "execution_count": null,
      "outputs": []
    },
    {
      "cell_type": "code",
      "source": [
        "x = [\"apple\", \"banana\"]\n",
        "y = [\"apple\", \"banana\"]\n",
        "z = x\n",
        "print(x is not z)"
      ],
      "metadata": {
        "id": "DKzJvumiUa7-"
      },
      "execution_count": null,
      "outputs": []
    },
    {
      "cell_type": "code",
      "source": [
        "x = [\"apple\", \"banana\"]\n",
        "y = [\"apple\", \"banana\"]\n",
        "z = x\n",
        "print(x is y)"
      ],
      "metadata": {
        "id": "U-xHhrXcUYKH"
      },
      "execution_count": null,
      "outputs": []
    },
    {
      "cell_type": "code",
      "source": [
        "a = 5\n",
        "b = a\n",
        "\n",
        "if a is b:\n",
        "    print(\"a and b are the same object.\")\n",
        "else:\n",
        "    print(\"a and b are different objects.\")"
      ],
      "metadata": {
        "id": "yw3JQlRXyFax",
        "colab": {
          "base_uri": "https://localhost:8080/"
        },
        "outputId": "662f7774-7b74-4d78-889e-f87894eb65d1"
      },
      "execution_count": null,
      "outputs": [
        {
          "output_type": "stream",
          "name": "stdout",
          "text": [
            "a and b are the same object.\n"
          ]
        }
      ]
    },
    {
      "cell_type": "markdown",
      "source": [
        "#  Membership Operators\n",
        " **Membership operators are used to test if a sequence is presented in an object:**\n",
        "\n",
        "\n",
        "1. \"in \"\t   Returns True if a sequence with the specified value is present in the object-------x in y\n",
        "2. \"not in\"\t   Returns True if a sequence with the specified value is not present in the object-----x not in y"
      ],
      "metadata": {
        "id": "Xpysk_OJ1DFg"
      }
    },
    {
      "cell_type": "code",
      "source": [
        "x = [\"apple\", \"banana\"]\n",
        "\n",
        "print(\"banana\" in x)"
      ],
      "metadata": {
        "id": "65cFHbj11Dc8",
        "colab": {
          "base_uri": "https://localhost:8080/"
        },
        "outputId": "936abfa7-5215-4bc2-b94d-216688eb26d0"
      },
      "execution_count": null,
      "outputs": [
        {
          "output_type": "stream",
          "name": "stdout",
          "text": [
            "True\n"
          ]
        }
      ]
    },
    {
      "cell_type": "code",
      "source": [
        "my_string = \"Hello, World!\"\n",
        "\n",
        "if \"H\" in my_string:\n",
        "    print(\"'H' is present in the string.\")\n",
        "else:\n",
        "    print(\"'H' is not present in the string.\")"
      ],
      "metadata": {
        "id": "AgRDXO9g1u6u"
      },
      "execution_count": null,
      "outputs": []
    },
    {
      "cell_type": "code",
      "source": [
        "main_string = \"This is a test string.\"\n",
        "substring = \"test\"\n",
        "\n",
        "if substring in main_string:\n",
        "    print(\"The substring  is present in the main string.\")\n",
        "else:\n",
        "    print(\"The substring  is not present in the main string\")\n"
      ],
      "metadata": {
        "id": "dih0kd4a11cP",
        "colab": {
          "base_uri": "https://localhost:8080/"
        },
        "outputId": "9d53e279-2faa-4530-f2ee-9bb73ecc91f5"
      },
      "execution_count": null,
      "outputs": [
        {
          "output_type": "stream",
          "name": "stdout",
          "text": [
            "The substring  is present in the main string.\n"
          ]
        }
      ]
    },
    {
      "cell_type": "markdown",
      "source": [
        "# Bitwise Operators\n",
        "**Bitwise operators are used to compare (binary) numbers:**\n",
        "1. \"&\" NAME :\tAND\t---Sets each bit to 1 if both bits are 1\t----x & y\n",
        "2. '|'\tNAME :\tOR\tSets each bit to 1 if one of two bits is 1\t----x | y\n",
        "3. \"^\"\tNAME :XOR\t---Sets each bit to 1 if only one of two bits is 1\t----x ^ y\n",
        "4. \"~\"\tNAME :NOT\tInverts all the bits\t----~x\n",
        "5. \"<<\"\tNAME :Zero fill left shift\t---Shift left by pushing zeros in from the right and let the leftmost bits fall off\t----x << 2\n",
        "6. \">>\" NAME :Signed right shift\t---Shift right by pushing copies of the leftmost bit in from the left, and let the rightmost bits fall off----\tx >> 2"
      ],
      "metadata": {
        "id": "5VSW35dM2iZj"
      }
    },
    {
      "cell_type": "code",
      "source": [
        "'''The & operator compares each bit\n",
        "and set it to 1 if both are 1,\n",
        "otherwise it is set to 0:'''\n",
        "print(6 & 3)"
      ],
      "metadata": {
        "id": "uJglr_D32Up6"
      },
      "execution_count": null,
      "outputs": []
    },
    {
      "cell_type": "code",
      "source": [
        "'''The | operator compares each bit and set it\n",
        " to 1 if one or both is 1,\n",
        "otherwise it is set to 0:'''\n",
        "print(6 | 3)"
      ],
      "metadata": {
        "id": "kQq0bpSo2UjC"
      },
      "execution_count": null,
      "outputs": []
    },
    {
      "cell_type": "code",
      "source": [
        "'''The ^ operator compares each bit\n",
        "and set it to 1 if only one is 1,\n",
        " otherwise (if both are 1 or both are 0)\n",
        " it is set to 0:'''\n",
        "\n",
        "print(6 ^ 3)"
      ],
      "metadata": {
        "id": "fYuR9SS52Ufx"
      },
      "execution_count": null,
      "outputs": []
    },
    {
      "cell_type": "markdown",
      "source": [
        "**WHAT IS OPERATOR PRECEDENCE??**"
      ],
      "metadata": {
        "id": "q4VlBuQ02Vcc"
      }
    },
    {
      "cell_type": "code",
      "source": [
        "print((6 + 3) - (6 + 3))\n"
      ],
      "metadata": {
        "id": "mEoCaHAk2aVs",
        "colab": {
          "base_uri": "https://localhost:8080/"
        },
        "outputId": "af2cde0c-70ec-47c5-d3a2-fb8ab5a513b6"
      },
      "execution_count": null,
      "outputs": [
        {
          "output_type": "stream",
          "name": "stdout",
          "text": [
            "0\n"
          ]
        }
      ]
    },
    {
      "cell_type": "code",
      "source": [
        "print(100 + 5 * 3)"
      ],
      "metadata": {
        "id": "2o1yh6G04aeK",
        "colab": {
          "base_uri": "https://localhost:8080/"
        },
        "outputId": "8ffe240b-6d63-4bbe-8dea-60fd88cda83a"
      },
      "execution_count": null,
      "outputs": [
        {
          "output_type": "stream",
          "name": "stdout",
          "text": [
            "115\n"
          ]
        }
      ]
    }
  ]
}